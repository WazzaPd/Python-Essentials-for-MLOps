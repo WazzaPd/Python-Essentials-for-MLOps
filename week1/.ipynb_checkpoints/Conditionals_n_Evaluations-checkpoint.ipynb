{
 "cells": [
  {
   "cell_type": "markdown",
   "id": "8effd504-a4a8-4da8-9917-d74f633a4daa",
   "metadata": {},
   "source": [
    "# Conditionals and Evaluations\n",
    "\n",
    "Understand if, else, and elif."
   ]
  },
  {
   "cell_type": "markdown",
   "id": "dc692be2-0c34-4c1e-9456-60c6a8ccd65c",
   "metadata": {},
   "source": [
    "## if conditions and evaluations"
   ]
  },
  {
   "cell_type": "code",
   "execution_count": 1,
   "id": "001fc798-6594-4d8b-9d5d-55048a9084f0",
   "metadata": {},
   "outputs": [
    {
     "name": "stdout",
     "output_type": "stream",
     "text": [
      "The condition was met\n"
     ]
    }
   ],
   "source": [
    "# all conditionals evaluate the result of the condition ( expression )\n",
    "condition = True\n",
    "if condition:\n",
    "    print(\"The condition was met\")"
   ]
  },
  {
   "cell_type": "code",
   "execution_count": 2,
   "id": "657ec148-e25f-42f2-a70d-c82ca870a8cd",
   "metadata": {},
   "outputs": [],
   "source": [
    "# if the condition changes to false, then it get skipped\n",
    "condition = False\n",
    "if condition:\n",
    "    print(\"was the condition met?\")"
   ]
  },
  {
   "cell_type": "code",
   "execution_count": 4,
   "id": "b6b0aece-cadf-486b-a9ee-7773fd4af265",
   "metadata": {},
   "outputs": [
    {
     "name": "stdout",
     "output_type": "stream",
     "text": [
      "we have some invites!\n"
     ]
    }
   ],
   "source": [
    "# some data structures are truthy: false when empty, but true when they contain items\n",
    "groceries = []\n",
    "if groceries:\n",
    "    print(\"we have some groceries!\")\n",
    "\n",
    "invites = [\"John\", \"George\"]\n",
    "if invites:\n",
    "    print(\"we have some invites!\")"
   ]
  },
  {
   "cell_type": "code",
   "execution_count": 11,
   "id": "5531b1d3-cc03-4cce-bb1d-8b1b1c94b454",
   "metadata": {},
   "outputs": [
    {
     "name": "stdout",
     "output_type": "stream",
     "text": [
      "we have parents!\n"
     ]
    }
   ],
   "source": [
    "# other types like integers: true when non-zero, false when 0\n",
    "properties = 0\n",
    "if properties:\n",
    "    print(\"We have properties!\")\n",
    "\n",
    "parents = 2\n",
    "if parents:\n",
    "    print(\"we have parents!\")"
   ]
  },
  {
   "cell_type": "code",
   "execution_count": 12,
   "id": "a3bb729f-1e53-4f2f-9384-b54fdd7b16ff",
   "metadata": {},
   "outputs": [
    {
     "name": "stdout",
     "output_type": "stream",
     "text": [
      "no properties\n",
      "there is more than 1 parent\n"
     ]
    }
   ],
   "source": [
    "# operators are supported\n",
    "if properties == 0:\n",
    "    print(\"no properties\")\n",
    "\n",
    "if parents > 1:\n",
    "    print(\"there is more than 1 parent\")"
   ]
  },
  {
   "cell_type": "markdown",
   "id": "6f5500fd-edeb-4456-b12f-172114259157",
   "metadata": {
    "jp-MarkdownHeadingCollapsed": true
   },
   "source": [
    "## else conditions\n",
    "\n",
    "When an if condition is not met, you can use an else condition (in that order!)"
   ]
  },
  {
   "cell_type": "code",
   "execution_count": 14,
   "id": "e8473dd5-b758-456a-b89a-1f7beec9c25f",
   "metadata": {},
   "outputs": [
    {
     "name": "stdout",
     "output_type": "stream",
     "text": [
      "We don't have any properties\n"
     ]
    }
   ],
   "source": [
    "if properties:\n",
    "    print(\"We have properties\")\n",
    "else:\n",
    "    print(\"We don't have any properties\")"
   ]
  },
  {
   "cell_type": "markdown",
   "id": "3c29066a-f4b8-43f8-ba97-d32735b2a4d1",
   "metadata": {
    "jp-MarkdownHeadingCollapsed": true
   },
   "source": [
    "## elif conditions\n",
    "\n",
    "This is useful when we want a else that is mapped to a condition as well"
   ]
  },
  {
   "cell_type": "code",
   "execution_count": 16,
   "id": "eb9be36b-f33f-46be-9b8f-a9d01dba2b43",
   "metadata": {},
   "outputs": [
    {
     "name": "stdout",
     "output_type": "stream",
     "text": [
      "We don't have any properties, but we have parents\n"
     ]
    }
   ],
   "source": [
    "if properties:\n",
    "    print(\"We have properties\")\n",
    "#evaluate if parents is valid\n",
    "elif parents:\n",
    "    print(\"We don't have any properties, but we have parents\")"
   ]
  },
  {
   "cell_type": "markdown",
   "id": "d038f8a1-027c-4bb1-9cc8-4eb6605213a4",
   "metadata": {},
   "source": [
    "## Negative conditions\n",
    "\n",
    "By degault, Python evaluates statements that are True. To represent a negative statement, you must add a __not__ keyword. "
   ]
  },
  {
   "cell_type": "code",
   "execution_count": 17,
   "id": "dfbf683d-6c74-4ac7-bc69-00f624edce4e",
   "metadata": {},
   "outputs": [
    {
     "name": "stdout",
     "output_type": "stream",
     "text": [
      "Didn't get a name!\n"
     ]
    }
   ],
   "source": [
    "name = None\n",
    "if not name:\n",
    "    print(\"Didn't get a name!\")"
   ]
  },
  {
   "cell_type": "code",
   "execution_count": 18,
   "id": "5a2dfc70-77df-41dd-bf37-912085f6827d",
   "metadata": {},
   "outputs": [
    {
     "name": "stdout",
     "output_type": "stream",
     "text": [
      "No name!\n"
     ]
    }
   ],
   "source": [
    "# same is possible with elif conditions\n",
    "last_name = None\n",
    "\n",
    "if not name:\n",
    "    print(\"No name\")\n",
    "elif not last_name:\n",
    "    print(\"No last name either\")"
   ]
  }
 ],
 "metadata": {
  "kernelspec": {
   "display_name": "Python 3 (ipykernel)",
   "language": "python",
   "name": "python3"
  },
  "language_info": {
   "codemirror_mode": {
    "name": "ipython",
    "version": 3
   },
   "file_extension": ".py",
   "mimetype": "text/x-python",
   "name": "python",
   "nbconvert_exporter": "python",
   "pygments_lexer": "ipython3",
   "version": "3.10.12"
  }
 },
 "nbformat": 4,
 "nbformat_minor": 5
}
