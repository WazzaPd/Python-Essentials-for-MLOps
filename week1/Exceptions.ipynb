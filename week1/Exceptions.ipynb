{
 "cells": [
  {
   "cell_type": "markdown",
   "id": "d3cdcc19-dedb-44be-b32c-0a92adeb4430",
   "metadata": {},
   "source": [
    "# Exceptions in Python"
   ]
  },
  {
   "cell_type": "markdown",
   "id": "37315c44-f8ab-435d-8136-f8aae7920237",
   "metadata": {
    "jp-MarkdownHeadingCollapsed": true
   },
   "source": [
    "## How do Exceptions happen\n",
    "\n",
    "They are created with invalid Python operations, or they are generated from your code"
   ]
  },
  {
   "cell_type": "code",
   "execution_count": 1,
   "id": "6b5ae5ba-4bc0-4beb-8e3c-28567d56220a",
   "metadata": {},
   "outputs": [
    {
     "ename": "ZeroDivisionError",
     "evalue": "division by zero",
     "output_type": "error",
     "traceback": [
      "\u001b[0;31m---------------------------------------------------------------------------\u001b[0m",
      "\u001b[0;31mZeroDivisionError\u001b[0m                         Traceback (most recent call last)",
      "Cell \u001b[0;32mIn[1], line 2\u001b[0m\n\u001b[1;32m      1\u001b[0m \u001b[38;5;66;03m# Exception from Python itself\u001b[39;00m\n\u001b[0;32m----> 2\u001b[0m \u001b[38;5;241;43m14\u001b[39;49m\u001b[38;5;241;43m/\u001b[39;49m\u001b[38;5;241;43m0\u001b[39;49m\n",
      "\u001b[0;31mZeroDivisionError\u001b[0m: division by zero"
     ]
    }
   ],
   "source": [
    "# Exception from Python itself\n",
    "14/0"
   ]
  },
  {
   "cell_type": "code",
   "execution_count": 2,
   "id": "27198b2f-2525-4837-ae3c-613d20929b04",
   "metadata": {},
   "outputs": [
    {
     "ename": "RuntimeError",
     "evalue": "This is a problem!",
     "output_type": "error",
     "traceback": [
      "\u001b[0;31m---------------------------------------------------------------------------\u001b[0m",
      "\u001b[0;31mRuntimeError\u001b[0m                              Traceback (most recent call last)",
      "Cell \u001b[0;32mIn[2], line 2\u001b[0m\n\u001b[1;32m      1\u001b[0m \u001b[38;5;66;03m# generating an exception with your own code\u001b[39;00m\n\u001b[0;32m----> 2\u001b[0m \u001b[38;5;28;01mraise\u001b[39;00m \u001b[38;5;167;01mRuntimeError\u001b[39;00m(\u001b[38;5;124m\"\u001b[39m\u001b[38;5;124mThis is a problem!\u001b[39m\u001b[38;5;124m\"\u001b[39m)\n",
      "\u001b[0;31mRuntimeError\u001b[0m: This is a problem!"
     ]
    }
   ],
   "source": [
    "# generating an exception with your own code\n",
    "raise RuntimeError(\"This is a problem!\")"
   ]
  },
  {
   "cell_type": "markdown",
   "id": "533bf272-533d-45b0-af70-8d68c7186e62",
   "metadata": {
    "jp-MarkdownHeadingCollapsed": true
   },
   "source": [
    "## Catching an Exception\n",
    "\n",
    "Us the __try__ and __except__ keywords to catch exceptions."
   ]
  },
  {
   "cell_type": "code",
   "execution_count": 6,
   "id": "698f0b17-4097-4d70-beac-59949ecfb402",
   "metadata": {},
   "outputs": [
    {
     "name": "stdout",
     "output_type": "stream",
     "text": [
      "7.0\n"
     ]
    }
   ],
   "source": [
    "try:\n",
    "    # some operation that causes an error\n",
    "    result = 14/0\n",
    "except:\n",
    "    # do some other operation\n",
    "    result = 14/2\n",
    "\n",
    "print(result)"
   ]
  },
  {
   "cell_type": "code",
   "execution_count": 7,
   "id": "b19a7656-3c83-430a-b4c1-fb5b8f642675",
   "metadata": {},
   "outputs": [
    {
     "name": "stdout",
     "output_type": "stream",
     "text": [
      "7.0\n"
     ]
    }
   ],
   "source": [
    "# don't catch all exceptions\n",
    "try:\n",
    "    # some operation that causes an error\n",
    "    result = 14/0\n",
    "    raise runtimeError(\"error!\")\n",
    "except Exception:\n",
    "    # do some other operation \n",
    "    result = 14/2\n",
    "\n",
    "print(result)"
   ]
  },
  {
   "cell_type": "markdown",
   "id": "468f0c21-23d4-4044-851b-57f37a379a6f",
   "metadata": {},
   "source": [
    "## Catching multiple Exceptions \n",
    "\n",
    "Group exceptions"
   ]
  },
  {
   "cell_type": "code",
   "execution_count": 11,
   "id": "3e2c9014-d6b1-47b8-806d-efd307f8aef7",
   "metadata": {},
   "outputs": [
    {
     "name": "stdout",
     "output_type": "stream",
     "text": [
      "7.0\n"
     ]
    }
   ],
   "source": [
    "try:\n",
    "    # some operation that causes an error\n",
    "    result = 14/2\n",
    "    result + \"100\"\n",
    "except (ZeroDivisionError, TypeError):\n",
    "    # do some other operation\n",
    "    result = 14/2\n",
    "\n",
    "print(result)"
   ]
  },
  {
   "cell_type": "code",
   "execution_count": 13,
   "id": "a5da7766-8ca9-4bfa-a0c9-67194ed1dcd5",
   "metadata": {},
   "outputs": [
    {
     "name": "stdout",
     "output_type": "stream",
     "text": [
      "got an error --> division by zero\n",
      "7.0\n"
     ]
    }
   ],
   "source": [
    "# assign the resulting exception to a variable\n",
    "try:\n",
    "    # some operation that causes an error\n",
    "    result = 14/0\n",
    "except ZeroDivisionError as error:\n",
    "    # do some other operation\n",
    "    print(f\"got an error --> {error}\")\n",
    "    result = 14/2\n",
    "print(result)"
   ]
  }
 ],
 "metadata": {
  "kernelspec": {
   "display_name": "Python 3 (ipykernel)",
   "language": "python",
   "name": "python3"
  },
  "language_info": {
   "codemirror_mode": {
    "name": "ipython",
    "version": 3
   },
   "file_extension": ".py",
   "mimetype": "text/x-python",
   "name": "python",
   "nbconvert_exporter": "python",
   "pygments_lexer": "ipython3",
   "version": "3.10.12"
  }
 },
 "nbformat": 4,
 "nbformat_minor": 5
}
