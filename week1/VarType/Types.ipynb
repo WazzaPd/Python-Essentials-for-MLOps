{
 "cells": [
  {
   "cell_type": "markdown",
   "id": "dd13c963-fbda-40f7-9566-a61177428bc4",
   "metadata": {},
   "source": [
    "# Types"
   ]
  },
  {
   "cell_type": "markdown",
   "id": "aeb414f3-7c7d-4585-93fb-d22a24d75b4e",
   "metadata": {
    "jp-MarkdownHeadingCollapsed": true
   },
   "source": [
    "## Strings\n",
    "\n",
    "Strings are text representation in a programmin language."
   ]
  },
  {
   "cell_type": "code",
   "execution_count": null,
   "id": "36063e3c-965f-4094-9ee3-331f2174fab5",
   "metadata": {},
   "outputs": [],
   "source": [
    "# strings can be assigned with single, double, and triple quotes\n",
    "full_name = 'Joseph Wu'"
   ]
  },
  {
   "cell_type": "code",
   "execution_count": null,
   "id": "aa44f1a8-1d72-46ba-bcb6-14f2cf42003f",
   "metadata": {},
   "outputs": [],
   "source": [
    "full_name = \"Joseph Wu\""
   ]
  },
  {
   "cell_type": "code",
   "execution_count": 2,
   "id": "99ded0f7-dea3-43dc-a82e-cbb22e1b50ce",
   "metadata": {},
   "outputs": [],
   "source": [
    "full_name = \"\"\"Joseph Wu\"\"\""
   ]
  },
  {
   "cell_type": "code",
   "execution_count": 5,
   "id": "ed04d42f-ae57-4dd2-93ca-505bebeb3f94",
   "metadata": {},
   "outputs": [
    {
     "name": "stdout",
     "output_type": "stream",
     "text": [
      "Triple quotes are useful when you have a ' or a \" withing a string\n"
     ]
    }
   ],
   "source": [
    "# Triple quotes are useful when having quotes within a string\n",
    "summary = \"\"\"Triple quotes are useful when you have a ' or a \" withing a string\"\"\"\n",
    "print(summary)"
   ]
  },
  {
   "cell_type": "code",
   "execution_count": 6,
   "id": "c6a23695-7ddd-4049-b9ec-ba1c60c9a464",
   "metadata": {},
   "outputs": [
    {
     "name": "stdout",
     "output_type": "stream",
     "text": [
      "Use single quotes when there is a \" is your string\n",
      "And use double quotes when you have ' in your string\n"
     ]
    }
   ],
   "source": [
    "# Use single quotes when you have double quotes in a string\n",
    "summary = 'Use single quotes when there is a \" is your string'\n",
    "print(summary)\n",
    "print(\"And use double quotes when you have ' in your string\")"
   ]
  },
  {
   "cell_type": "code",
   "execution_count": 8,
   "id": "25aed7ce-a61c-4c64-b4f1-be9c3922ae83",
   "metadata": {},
   "outputs": [
    {
     "name": "stdout",
     "output_type": "stream",
     "text": [
      "this lesson is brought to you by Joseph\n"
     ]
    }
   ],
   "source": [
    "# string support adding to other strings to compose text\n",
    "name = \"Joseph\"\n",
    "result = \"this lesson is brought to you by \" + name\n",
    "print(result)"
   ]
  },
  {
   "cell_type": "code",
   "execution_count": null,
   "id": "c220afab-5de5-4234-95c4-0a06e45eecad",
   "metadata": {},
   "outputs": [],
   "source": [
    "# use f-strings to repace variables in a string\n",
    "result = f\"{name} is teaching f-strings\"\n",
    "print(result)"
   ]
  },
  {
   "cell_type": "markdown",
   "id": "1c7bbc62-9d4c-4a87-b11f-4fa019ad5df5",
   "metadata": {
    "jp-MarkdownHeadingCollapsed": true
   },
   "source": [
    "## Integers\n",
    "\n",
    "Integers are *always* whole numbers and support numerical representation"
   ]
  },
  {
   "cell_type": "code",
   "execution_count": 14,
   "id": "245fcd73-e452-4641-a738-faeb1ba35514",
   "metadata": {},
   "outputs": [
    {
     "data": {
      "text/plain": [
       "int"
      ]
     },
     "execution_count": 14,
     "metadata": {},
     "output_type": "execute_result"
    }
   ],
   "source": [
    "#use type() to discover what the type is if you don't know it\n",
    "type(15)"
   ]
  },
  {
   "cell_type": "code",
   "execution_count": 15,
   "id": "a23cc221-3c7c-49f6-8161-ee88d725a91a",
   "metadata": {},
   "outputs": [
    {
     "data": {
      "text/plain": [
       "2.0"
      ]
     },
     "execution_count": 15,
     "metadata": {},
     "output_type": "execute_result"
    }
   ],
   "source": [
    "# integers support mathmatical operations\n",
    "14/7"
   ]
  },
  {
   "cell_type": "code",
   "execution_count": 16,
   "id": "be4849c2-7900-43de-8a55-35444b797708",
   "metadata": {},
   "outputs": [
    {
     "ename": "ZeroDivisionError",
     "evalue": "division by zero",
     "output_type": "error",
     "traceback": [
      "\u001b[0;31m---------------------------------------------------------------------------\u001b[0m",
      "\u001b[0;31mZeroDivisionError\u001b[0m                         Traceback (most recent call last)",
      "Cell \u001b[0;32mIn[16], line 2\u001b[0m\n\u001b[1;32m      1\u001b[0m \u001b[38;5;66;03m# watchout for invalid operations\u001b[39;00m\n\u001b[0;32m----> 2\u001b[0m \u001b[38;5;241;43m7\u001b[39;49m\u001b[38;5;241;43m/\u001b[39;49m\u001b[38;5;241;43m0\u001b[39;49m\n",
      "\u001b[0;31mZeroDivisionError\u001b[0m: division by zero"
     ]
    }
   ],
   "source": [
    "# watchout for invalid operations\n",
    "7/0"
   ]
  },
  {
   "cell_type": "code",
   "execution_count": 17,
   "id": "8372ac80-b28d-429f-8103-42264cd6555f",
   "metadata": {},
   "outputs": [
    {
     "ename": "TypeError",
     "evalue": "unsupported operand type(s) for +: 'int' and 'str'",
     "output_type": "error",
     "traceback": [
      "\u001b[0;31m---------------------------------------------------------------------------\u001b[0m",
      "\u001b[0;31mTypeError\u001b[0m                                 Traceback (most recent call last)",
      "Cell \u001b[0;32mIn[17], line 2\u001b[0m\n\u001b[1;32m      1\u001b[0m \u001b[38;5;66;03m# as with all other types, watch out when mixing unsupported types\u001b[39;00m\n\u001b[0;32m----> 2\u001b[0m \u001b[38;5;241;43m7\u001b[39;49m\u001b[43m \u001b[49m\u001b[38;5;241;43m+\u001b[39;49m\u001b[43m \u001b[49m\u001b[38;5;124;43m\"\u001b[39;49m\u001b[38;5;124;43m14\u001b[39;49m\u001b[38;5;124;43m\"\u001b[39;49m\n",
      "\u001b[0;31mTypeError\u001b[0m: unsupported operand type(s) for +: 'int' and 'str'"
     ]
    }
   ],
   "source": [
    "# as with all other types, watch out when mixing unsupported types\n",
    "7 + \"14\"\n"
   ]
  },
  {
   "cell_type": "code",
   "execution_count": 18,
   "id": "bf57088c-35c9-459d-83c9-416e0f39b5e1",
   "metadata": {},
   "outputs": [
    {
     "name": "stdout",
     "output_type": "stream",
     "text": [
      "1.5\n"
     ]
    },
    {
     "data": {
      "text/plain": [
       "float"
      ]
     },
     "execution_count": 18,
     "metadata": {},
     "output_type": "execute_result"
    }
   ],
   "source": [
    "# types can change depending on operations\n",
    "result = 3/2\n",
    "print(result)\n",
    "type(result)"
   ]
  },
  {
   "cell_type": "markdown",
   "id": "187a982c-28ed-41e3-9559-249c311f32e4",
   "metadata": {},
   "source": [
    "## Floats\n",
    "\n",
    "Similar to integers but include decimals"
   ]
  },
  {
   "cell_type": "code",
   "execution_count": 19,
   "id": "3125bd19-a7c7-4085-a8de-6862cd483122",
   "metadata": {},
   "outputs": [
    {
     "data": {
      "text/plain": [
       "float"
      ]
     },
     "execution_count": 19,
     "metadata": {},
     "output_type": "execute_result"
    }
   ],
   "source": [
    "type(14.3)"
   ]
  },
  {
   "cell_type": "code",
   "execution_count": 20,
   "id": "9cbf8189-c893-41f3-bb4a-ae375d17d373",
   "metadata": {},
   "outputs": [
    {
     "data": {
      "text/plain": [
       "3.1414141414141414"
      ]
     },
     "execution_count": 20,
     "metadata": {},
     "output_type": "execute_result"
    }
   ],
   "source": [
    "311/99"
   ]
  },
  {
   "cell_type": "markdown",
   "id": "aba31b4a-1816-4488-be4e-7b59d559cfba",
   "metadata": {},
   "source": [
    "## Booleans\n",
    "\n",
    "Represented in Python using __True__ and __False__. Other types ca also represent true or false like 1 and 0."
   ]
  },
  {
   "cell_type": "code",
   "execution_count": 21,
   "id": "c767eab0-d57d-4613-b3e4-f99ba278f0ce",
   "metadata": {},
   "outputs": [
    {
     "data": {
      "text/plain": [
       "bool"
      ]
     },
     "execution_count": 21,
     "metadata": {},
     "output_type": "execute_result"
    }
   ],
   "source": [
    "type(True)"
   ]
  },
  {
   "cell_type": "code",
   "execution_count": 22,
   "id": "645a5faa-76fe-475c-97f8-5b9e28fa07fb",
   "metadata": {},
   "outputs": [
    {
     "name": "stdout",
     "output_type": "stream",
     "text": [
      "True\n",
      "False\n"
     ]
    }
   ],
   "source": [
    "# truthy values can be converted to booleans with the 'bool()' built-in\n",
    "first_result = bool(1)\n",
    "second_result = bool(0)\n",
    "print(first_result)\n",
    "print(second_result)"
   ]
  },
  {
   "cell_type": "markdown",
   "id": "2f8099fe-d57c-42a5-bb42-10c1668b34f8",
   "metadata": {},
   "source": [
    "## None\n",
    "\n",
    "None indicates a Null value. Its type is NoneType. "
   ]
  },
  {
   "cell_type": "code",
   "execution_count": 23,
   "id": "d7c52034-8dce-4a81-bd9a-4b3ee5273383",
   "metadata": {},
   "outputs": [
    {
     "data": {
      "text/plain": [
       "NoneType"
      ]
     },
     "execution_count": 23,
     "metadata": {},
     "output_type": "execute_result"
    }
   ],
   "source": [
    "type(None)"
   ]
  }
 ],
 "metadata": {
  "kernelspec": {
   "display_name": "Python 3 (ipykernel)",
   "language": "python",
   "name": "python3"
  },
  "language_info": {
   "codemirror_mode": {
    "name": "ipython",
    "version": 3
   },
   "file_extension": ".py",
   "mimetype": "text/x-python",
   "name": "python",
   "nbconvert_exporter": "python",
   "pygments_lexer": "ipython3",
   "version": "3.10.12"
  }
 },
 "nbformat": 4,
 "nbformat_minor": 5
}
