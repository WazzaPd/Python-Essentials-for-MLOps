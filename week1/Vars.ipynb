{
 "cells": [
  {
   "cell_type": "markdown",
   "id": "ddc5fda0",
   "metadata": {},
   "source": [
    "# Variables and assignment"
   ]
  },
  {
   "cell_type": "code",
   "execution_count": 3,
   "id": "90cd49e4-14d2-4381-b543-313e2a5ee5f0",
   "metadata": {},
   "outputs": [],
   "source": [
    "# assigning variables\n",
    "name = \"Joseph\"\n",
    "last_name = \"Wu\""
   ]
  },
  {
   "cell_type": "code",
   "execution_count": 2,
   "id": "6ee14183-c7a5-47a8-ad52-fe31531abdfb",
   "metadata": {},
   "outputs": [],
   "source": [
    "# No need to worry about the type of the value\n",
    "height = 10000\n",
    "distance = 1.33\n",
    "date = \"Tuesday\""
   ]
  },
  {
   "cell_type": "code",
   "execution_count": 1,
   "id": "a36ed122-ff01-406a-9569-20840d35dfb8",
   "metadata": {},
   "outputs": [
    {
     "name": "stdout",
     "output_type": "stream",
     "text": [
      "10000\n"
     ]
    }
   ],
   "source": [
    "# lack of type checking can make things tricky\n",
    "height = \"10000\"\n",
    "print(height)"
   ]
  },
  {
   "cell_type": "code",
   "execution_count": 4,
   "id": "19e6f890-ef9f-4357-b2d3-928bf84dd5f3",
   "metadata": {},
   "outputs": [
    {
     "name": "stdout",
     "output_type": "stream",
     "text": [
      "Joseph\n",
      "James\n"
     ]
    }
   ],
   "source": [
    "# re-assigning variables\n",
    "name\n",
    "name = \"James\"\n",
    "name"
   ]
  },
  {
   "cell_type": "code",
   "execution_count": 9,
   "id": "8ea247d1-2750-41f8-99f4-f234e655537b",
   "metadata": {},
   "outputs": [
    {
     "name": "stdout",
     "output_type": "stream",
     "text": [
      "James Wu\n"
     ]
    }
   ],
   "source": [
    "# using print with vars\n",
    "print(name, last_name)"
   ]
  },
  {
   "cell_type": "code",
   "execution_count": 10,
   "id": "eaec9355-2bb5-4e4b-85e0-38ecec741966",
   "metadata": {},
   "outputs": [
    {
     "name": "stdout",
     "output_type": "stream",
     "text": [
      "James Wu\n"
     ]
    }
   ],
   "source": [
    "# Create new vars from exisiting vars\n",
    "# watch out with strings\n",
    "# full_name = name + last_name\n",
    "full_name = f\"{name} {last_name}\"\n",
    "print(full_name)"
   ]
  },
  {
   "cell_type": "code",
   "execution_count": 11,
   "id": "53b10282-950e-4dd5-8f7e-cfe3523c9a72",
   "metadata": {},
   "outputs": [
    {
     "name": "stdout",
     "output_type": "stream",
     "text": [
      "James\n",
      "James\n",
      "Bob\n"
     ]
    }
   ],
   "source": [
    "# Watch out for copying variables!\n",
    "new_name = name\n",
    "print(new_name)\n",
    "name = \"Bob\"\n",
    "print(new_name)\n",
    "print(name)"
   ]
  },
  {
   "cell_type": "code",
   "execution_count": null,
   "id": "87d4860b-738d-46f8-adcd-1e638410426f",
   "metadata": {},
   "outputs": [],
   "source": [
    "# the print() function helps display values\n",
    "# it adds separation when using commas\n",
    "print(name, last_name, \"is your instructor\", \"today.\")"
   ]
  }
 ],
 "metadata": {
  "kernelspec": {
   "display_name": "Python 3 (ipykernel)",
   "language": "python",
   "name": "python3"
  },
  "language_info": {
   "codemirror_mode": {
    "name": "ipython",
    "version": 3
   },
   "file_extension": ".py",
   "mimetype": "text/x-python",
   "name": "python",
   "nbconvert_exporter": "python",
   "pygments_lexer": "ipython3",
   "version": "3.10.12"
  }
 },
 "nbformat": 4,
 "nbformat_minor": 5
}
