{
 "cells": [
  {
   "cell_type": "markdown",
   "id": "7299efa5-ecfb-4f34-aba2-45949a96aafa",
   "metadata": {},
   "source": [
    "# Dictionaries\n",
    "\n",
    "Python diction aries are a great way to store data. The dictionary is used to map keys with values, creating a mapping of items."
   ]
  },
  {
   "cell_type": "markdown",
   "id": "ef21aea2-21f8-4a98-b0cd-e3417d2a7cf5",
   "metadata": {
    "jp-MarkdownHeadingCollapsed": true
   },
   "source": [
    "## Introduction"
   ]
  },
  {
   "cell_type": "code",
   "execution_count": 3,
   "id": "6bb30869-573b-4152-b288-ffb6eb2a4747",
   "metadata": {},
   "outputs": [
    {
     "data": {
      "text/plain": [
       "{}"
      ]
     },
     "execution_count": 3,
     "metadata": {},
     "output_type": "execute_result"
    }
   ],
   "source": [
    "# curly brackets are required to create one\n",
    "{}"
   ]
  },
  {
   "cell_type": "code",
   "execution_count": 4,
   "id": "f0b61e40-a541-4d01-99cb-39bd9da539f0",
   "metadata": {},
   "outputs": [
    {
     "data": {
      "text/plain": [
       "{'key': 'value'}"
      ]
     },
     "execution_count": 4,
     "metadata": {},
     "output_type": "execute_result"
    }
   ],
   "source": [
    "# you always map a key to a value\n",
    "{\"key\": \"value\"}"
   ]
  },
  {
   "cell_type": "code",
   "execution_count": 5,
   "id": "2a9623e1-ae4c-4cc4-8cd4-120cc8c3d2e1",
   "metadata": {},
   "outputs": [
    {
     "data": {
      "text/plain": [
       "{'key': True}"
      ]
     },
     "execution_count": 5,
     "metadata": {},
     "output_type": "execute_result"
    }
   ],
   "source": [
    "# the values can be other types\n",
    "{\"key\": True}"
   ]
  },
  {
   "cell_type": "code",
   "execution_count": 6,
   "id": "983d7ba3-c712-4f9e-bd70-9355394b64e1",
   "metadata": {},
   "outputs": [
    {
     "data": {
      "text/plain": [
       "{'name': 'Wu'}"
      ]
     },
     "execution_count": 6,
     "metadata": {},
     "output_type": "execute_result"
    }
   ],
   "source": [
    "# but the key has to be unique, there can't be duplicates\n",
    "{\"name\": \"Jospeh\", \"name\": \"Wu\"}"
   ]
  },
  {
   "cell_type": "code",
   "execution_count": 7,
   "id": "bde41881-b89f-478e-9ed5-6c8f2ff50494",
   "metadata": {},
   "outputs": [
    {
     "data": {
      "text/plain": [
       "{'items': ['lumber', 'concrete', 'nails']}"
      ]
     },
     "execution_count": 7,
     "metadata": {},
     "output_type": "execute_result"
    }
   ],
   "source": [
    "# value can be other dictionaries or lists\n",
    "{\"items\": [\"lumber\", \"concrete\", \"nails\"]}"
   ]
  },
  {
   "cell_type": "code",
   "execution_count": 8,
   "id": "7294d2af-996b-4ce4-a278-7cfff598c9c6",
   "metadata": {},
   "outputs": [
    {
     "ename": "TypeError",
     "evalue": "unhashable type: 'list'",
     "output_type": "error",
     "traceback": [
      "\u001b[0;31m---------------------------------------------------------------------------\u001b[0m",
      "\u001b[0;31mTypeError\u001b[0m                                 Traceback (most recent call last)",
      "Cell \u001b[0;32mIn[8], line 2\u001b[0m\n\u001b[1;32m      1\u001b[0m \u001b[38;5;66;03m# you can't have a list or a dict as a key however!\u001b[39;00m\n\u001b[0;32m----> 2\u001b[0m {[\u001b[38;5;241m1\u001b[39m, \u001b[38;5;241m2\u001b[39m]: \u001b[38;5;28;01mFalse\u001b[39;00m}\n",
      "\u001b[0;31mTypeError\u001b[0m: unhashable type: 'list'"
     ]
    }
   ],
   "source": [
    "# you can't have a list or a dict as a key however!\n",
    "{[1, 2]: False}"
   ]
  },
  {
   "cell_type": "markdown",
   "id": "50244e46-1d0a-418d-b5f0-b63bb2bca95d",
   "metadata": {},
   "source": [
    "## Creating Dictionaries"
   ]
  },
  {
   "cell_type": "code",
   "execution_count": 11,
   "id": "7477ef8c-0b74-4647-a196-d1f85649e3ba",
   "metadata": {},
   "outputs": [
    {
     "data": {
      "text/plain": [
       "{}"
      ]
     },
     "execution_count": 11,
     "metadata": {},
     "output_type": "execute_result"
    }
   ],
   "source": [
    "# with curly brackets\n",
    "contact_information = {}\n",
    "contact_information"
   ]
  },
  {
   "cell_type": "code",
   "execution_count": 12,
   "id": "854aff3f-c6e3-4b5f-8fd7-92133b5551cd",
   "metadata": {},
   "outputs": [
    {
     "data": {
      "text/plain": [
       "{'name': 'Joseph', 'lastname': 'Wu'}"
      ]
     },
     "execution_count": 12,
     "metadata": {},
     "output_type": "execute_result"
    }
   ],
   "source": [
    "# with curly brackets and pre-seeded data\n",
    "contact_information = {\"name\": \"Joseph\", \"lastname\": \"Wu\"}\n",
    "contact_information"
   ]
  },
  {
   "cell_type": "code",
   "execution_count": 15,
   "id": "92d48056-0002-439f-add9-b28dbdfbc8e0",
   "metadata": {},
   "outputs": [
    {
     "data": {
      "text/plain": [
       "{'name': 'Joseph', 'lastname': 'Wu'}"
      ]
     },
     "execution_count": 15,
     "metadata": {},
     "output_type": "execute_result"
    }
   ],
   "source": [
    "# with dict() and a list of tuple pairs\n",
    "data = [(\"name\", \"Joseph\"), (\"lastname\", \"Wu\")]\n",
    "dict(data)"
   ]
  },
  {
   "cell_type": "code",
   "execution_count": 16,
   "id": "6c1451a3-3328-48c9-9439-fdde8846932e",
   "metadata": {},
   "outputs": [
    {
     "data": {
      "text/plain": [
       "{'first': 'Joseph', 'lastname': 'Wu'}"
      ]
     },
     "execution_count": 16,
     "metadata": {},
     "output_type": "execute_result"
    }
   ],
   "source": [
    "# with dict() and keyword argumetns\n",
    "dict(first=\"Joseph\", lastname=\"Wu\")"
   ]
  },
  {
   "cell_type": "markdown",
   "id": "66b90152-c74e-45aa-84da-c3da8a3763ff",
   "metadata": {},
   "source": [
    "## Loopoing over Dictionaries\n",
    "\n",
    "Looping can be done in serveral ways to extract data depending on what you need:\n",
    "\n",
    "    1. Retrieve only keys\n",
    "    2. Retrieve only values\n",
    "    3. Retrieve both keys and values\n",
    "\n",
    "This section covers the three different ways."
   ]
  },
  {
   "cell_type": "code",
   "execution_count": 17,
   "id": "4aafd435-f53f-4130-a812-3e60ecad5747",
   "metadata": {},
   "outputs": [],
   "source": [
    "contact_information = {\n",
    "    \"name\": \"Joseph\",\n",
    "    \"lastname\": \"Wu\", \n",
    "    \"age\": 18,\n",
    "    \"height\": 1.65,\n",
    "}"
   ]
  },
  {
   "cell_type": "code",
   "execution_count": 19,
   "id": "afa219b4-7100-404c-b078-60cf1906a6a7",
   "metadata": {},
   "outputs": [
    {
     "name": "stdout",
     "output_type": "stream",
     "text": [
      "name\n",
      "lastname\n",
      "age\n",
      "height\n"
     ]
    }
   ],
   "source": [
    "# Retrieve only keys by default or explicityly\n",
    "# default\n",
    "# for key in contact_information:\n",
    "#    print(key)\n",
    "\n",
    "# explicit\n",
    "for key in contact_information.keys():\n",
    "    print(key)"
   ]
  },
  {
   "cell_type": "code",
   "execution_count": 21,
   "id": "c6f6a9c5-1e24-4cf2-a0bf-6fb8bd4b1eb7",
   "metadata": {},
   "outputs": [
    {
     "name": "stdout",
     "output_type": "stream",
     "text": [
      "Joseph\n",
      "Wu\n",
      "18\n",
      "1.65\n"
     ]
    }
   ],
   "source": [
    "# Retrieve only values\n",
    "for value in contact_information.values():\n",
    "    print(value)"
   ]
  },
  {
   "cell_type": "code",
   "execution_count": 24,
   "id": "b4bfb933-5d8c-443f-9b45-f75773d8c856",
   "metadata": {},
   "outputs": [
    {
     "name": "stdout",
     "output_type": "stream",
     "text": [
      "name --> Joseph\n",
      "lastname --> Wu\n",
      "age --> 18\n",
      "height --> 1.65\n"
     ]
    },
    {
     "data": {
      "text/plain": [
       "dict_items([('name', 'Joseph'), ('lastname', 'Wu'), ('age', 18), ('height', 1.65)])"
      ]
     },
     "execution_count": 24,
     "metadata": {},
     "output_type": "execute_result"
    }
   ],
   "source": [
    "# Retrieve both keys and values\n",
    "\n",
    "for key, value in contact_information.items():\n",
    "    print(f\"{key} --> {value}\")\n",
    "\n",
    "contact_information.items()"
   ]
  }
 ],
 "metadata": {
  "kernelspec": {
   "display_name": "Python 3 (ipykernel)",
   "language": "python",
   "name": "python3"
  },
  "language_info": {
   "codemirror_mode": {
    "name": "ipython",
    "version": 3
   },
   "file_extension": ".py",
   "mimetype": "text/x-python",
   "name": "python",
   "nbconvert_exporter": "python",
   "pygments_lexer": "ipython3",
   "version": "3.10.12"
  }
 },
 "nbformat": 4,
 "nbformat_minor": 5
}
