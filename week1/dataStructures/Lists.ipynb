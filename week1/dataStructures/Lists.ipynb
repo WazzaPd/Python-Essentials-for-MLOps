{
 "cells": [
  {
   "cell_type": "markdown",
   "id": "604a3ee9-4bd9-48f8-968f-09bee2995525",
   "metadata": {},
   "source": [
    "# Lists\n",
    "\n",
    "In Python, lists are like a container where you can add items indefineitely. "
   ]
  },
  {
   "cell_type": "markdown",
   "id": "dbc50763-820a-4f55-8581-939b0de3c475",
   "metadata": {
    "jp-MarkdownHeadingCollapsed": true
   },
   "source": [
    "## Intro"
   ]
  },
  {
   "cell_type": "code",
   "execution_count": 1,
   "id": "0e3b85b0-80c7-4561-b71e-2f66b91b6c0f",
   "metadata": {},
   "outputs": [
    {
     "data": {
      "text/plain": [
       "[1, 2, 3, 4, 5]"
      ]
     },
     "execution_count": 1,
     "metadata": {},
     "output_type": "execute_result"
    }
   ],
   "source": [
    "# lists are containers of items identified by square brackets\n",
    "[1, 2, 3, 4, 5]"
   ]
  },
  {
   "cell_type": "code",
   "execution_count": 3,
   "id": "1ad1e69d-6dae-4632-95f5-c3ad3a2752ad",
   "metadata": {},
   "outputs": [
    {
     "data": {
      "text/plain": [
       "[1, 'two', False, 12.5]"
      ]
     },
     "execution_count": 3,
     "metadata": {},
     "output_type": "execute_result"
    }
   ],
   "source": [
    "# lists can contain different types of items in them\n",
    "[1, \"two\", False, 12.5]"
   ]
  },
  {
   "cell_type": "code",
   "execution_count": 4,
   "id": "15f136ba-064c-48b3-afbf-c780ea0c18ec",
   "metadata": {},
   "outputs": [
    {
     "data": {
      "text/plain": [
       "4"
      ]
     },
     "execution_count": 4,
     "metadata": {},
     "output_type": "execute_result"
    }
   ],
   "source": [
    "# you can use a built-in to count items in a list\n",
    "len([3, 4, \"red\", \"car\"])"
   ]
  },
  {
   "cell_type": "code",
   "execution_count": 5,
   "id": "3e8c4d5a-1d39-4218-a309-8adef8b59b81",
   "metadata": {},
   "outputs": [
    {
     "data": {
      "text/plain": [
       "'carrots'"
      ]
     },
     "execution_count": 5,
     "metadata": {},
     "output_type": "execute_result"
    }
   ],
   "source": [
    "# each item has a position called \"index\". Count starts with 0\n",
    "items = [\"carrots\", \"peas\", \"celery\"]\n",
    "\n",
    "# retrieveing an item is done with the index\n",
    "items[0]"
   ]
  },
  {
   "cell_type": "code",
   "execution_count": 6,
   "id": "02b4a562-18da-4f8f-9bc4-04f56ce9c42c",
   "metadata": {},
   "outputs": [
    {
     "data": {
      "text/plain": [
       "'celery'"
      ]
     },
     "execution_count": 6,
     "metadata": {},
     "output_type": "execute_result"
    }
   ],
   "source": [
    "# you can also retrieve the last item\n",
    "items[-1]"
   ]
  },
  {
   "cell_type": "code",
   "execution_count": 8,
   "id": "4e12ff6b-3469-4aaf-83fa-1a6185cfb46a",
   "metadata": {},
   "outputs": [
    {
     "data": {
      "text/plain": [
       "'peas'"
      ]
     },
     "execution_count": 8,
     "metadata": {},
     "output_type": "execute_result"
    }
   ],
   "source": [
    "# but also use negative indexes to count from the end\n",
    "items[-2]"
   ]
  },
  {
   "cell_type": "markdown",
   "id": "7d043833-0500-42bb-8bf3-85f24640d7d6",
   "metadata": {
    "jp-MarkdownHeadingCollapsed": true
   },
   "source": [
    "## Creating and Iterating Lists"
   ]
  },
  {
   "cell_type": "code",
   "execution_count": 9,
   "id": "95831565-6507-400e-81bf-df330f2933e0",
   "metadata": {},
   "outputs": [
    {
     "data": {
      "text/plain": [
       "[]"
      ]
     },
     "execution_count": 9,
     "metadata": {},
     "output_type": "execute_result"
    }
   ],
   "source": [
    "# crfeate one by defining an empty list with bracket\n",
    "items = []\n",
    "items"
   ]
  },
  {
   "cell_type": "code",
   "execution_count": 11,
   "id": "56181c2a-4ae2-46cb-bb2b-c7e72377925d",
   "metadata": {},
   "outputs": [
    {
     "data": {
      "text/plain": [
       "[]"
      ]
     },
     "execution_count": 11,
     "metadata": {},
     "output_type": "execute_result"
    }
   ],
   "source": [
    "# but you can also use the built-in 'list()'. In pythoon it is more common to use brackets\n",
    "items = list()\n",
    "items"
   ]
  },
  {
   "cell_type": "code",
   "execution_count": 12,
   "id": "ebbc2cfb-633a-471f-91b7-f285f5f406fe",
   "metadata": {},
   "outputs": [
    {
     "data": {
      "text/plain": [
       "['red', 'blue', 'brown']"
      ]
     },
     "execution_count": 12,
     "metadata": {},
     "output_type": "execute_result"
    }
   ],
   "source": [
    "# data can be preceded\n",
    "colors = [\"red\", \"blue\", \"brown\"]\n",
    "colors"
   ]
  },
  {
   "cell_type": "markdown",
   "id": "a3e03bc0-b61f-4164-83ee-83c0c5ab5885",
   "metadata": {
    "jp-MarkdownHeadingCollapsed": true
   },
   "source": [
    "## Iterating over lists\n",
    "\n",
    "This is one of the most common loop operations in Python."
   ]
  },
  {
   "cell_type": "code",
   "execution_count": 13,
   "id": "0842a404-23d2-4b88-995e-50346d684227",
   "metadata": {},
   "outputs": [
    {
     "name": "stdout",
     "output_type": "stream",
     "text": [
      "red\n",
      "blue\n",
      "brown\n"
     ]
    }
   ],
   "source": [
    "for color in colors:\n",
    "    print( color )"
   ]
  },
  {
   "cell_type": "code",
   "execution_count": 15,
   "id": "4d34666b-b844-433c-9c8c-d5bb4888c0f0",
   "metadata": {},
   "outputs": [
    {
     "name": "stdout",
     "output_type": "stream",
     "text": [
      "red\n",
      "yellow\n"
     ]
    }
   ],
   "source": [
    "# equivalent to above\n",
    "for color in [\"red\", \"yellow\"]:\n",
    "    print(color)"
   ]
  },
  {
   "cell_type": "markdown",
   "id": "04d5a45e-54ca-488f-a3d1-d2c324f08523",
   "metadata": {},
   "source": [
    "## List comprehensions\n",
    "\n",
    "This is a more advanced way to loop over a list and set a condition."
   ]
  },
  {
   "cell_type": "code",
   "execution_count": 16,
   "id": "c0783c0c-781c-4516-b359-fb5120cef335",
   "metadata": {},
   "outputs": [
    {
     "data": {
      "text/plain": [
       "[2, 3, 4, 5, 3, 4]"
      ]
     },
     "execution_count": 16,
     "metadata": {},
     "output_type": "execute_result"
    }
   ],
   "source": [
    "numbers = [2, 3, 4, 12, 5, 3, 4]\n",
    "\n",
    "low_numbers = [n for n in numbers if n < 6]\n",
    "\n",
    "low_numbers"
   ]
  }
 ],
 "metadata": {
  "kernelspec": {
   "display_name": "Python 3 (ipykernel)",
   "language": "python",
   "name": "python3"
  },
  "language_info": {
   "codemirror_mode": {
    "name": "ipython",
    "version": 3
   },
   "file_extension": ".py",
   "mimetype": "text/x-python",
   "name": "python",
   "nbconvert_exporter": "python",
   "pygments_lexer": "ipython3",
   "version": "3.10.12"
  }
 },
 "nbformat": 4,
 "nbformat_minor": 5
}
