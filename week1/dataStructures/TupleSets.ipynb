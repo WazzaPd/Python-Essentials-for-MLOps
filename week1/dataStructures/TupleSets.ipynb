{
 "cells": [
  {
   "cell_type": "markdown",
   "id": "99c4f884-92e9-4d7b-ab6b-cf228929e91c",
   "metadata": {
    "jp-MarkdownHeadingCollapsed": true
   },
   "source": [
    "# Tuples\n",
    "\n",
    "Should be treated as \"read only\" lists, the differences are subtle!"
   ]
  },
  {
   "cell_type": "code",
   "execution_count": 3,
   "id": "29550cc8-dffd-4b91-b008-0ec68d22e8d2",
   "metadata": {},
   "outputs": [
    {
     "name": "stdout",
     "output_type": "stream",
     "text": [
      "first item in the tuple is : 0\n",
      "third\n",
      "first\n",
      "second\n",
      "third\n"
     ]
    }
   ],
   "source": [
    "ro_items = ('first', 'second', 'third')\n",
    "print(\"first item in the tuple is : %s\" % ro_items.index('first'))\n",
    "print(ro_items[-1])\n",
    "for item in ro_items:\n",
    "    print(item)"
   ]
  },
  {
   "cell_type": "code",
   "execution_count": 4,
   "id": "d7606abc-2851-4ec0-af8a-1f83035c70e2",
   "metadata": {},
   "outputs": [
    {
     "ename": "IndexError",
     "evalue": "tuple index out of range",
     "output_type": "error",
     "traceback": [
      "\u001b[0;31m---------------------------------------------------------------------------\u001b[0m",
      "\u001b[0;31mIndexError\u001b[0m                                Traceback (most recent call last)",
      "Cell \u001b[0;32mIn[4], line 2\u001b[0m\n\u001b[1;32m      1\u001b[0m \u001b[38;5;66;03m# expect an error here, just like a list!\u001b[39;00m\n\u001b[0;32m----> 2\u001b[0m \u001b[43mro_items\u001b[49m\u001b[43m[\u001b[49m\u001b[38;5;241;43m9\u001b[39;49m\u001b[43m]\u001b[49m\n",
      "\u001b[0;31mIndexError\u001b[0m: tuple index out of range"
     ]
    }
   ],
   "source": [
    "# expect an error here, just like a list!\n",
    "ro_items[9]"
   ]
  },
  {
   "cell_type": "code",
   "execution_count": 6,
   "id": "3302220c-3e4f-4c27-ae17-fea3fb947107",
   "metadata": {},
   "outputs": [
    {
     "ename": "NameError",
     "evalue": "name 'ro_itmes' is not defined",
     "output_type": "error",
     "traceback": [
      "\u001b[0;31m---------------------------------------------------------------------------\u001b[0m",
      "\u001b[0;31mNameError\u001b[0m                                 Traceback (most recent call last)",
      "Cell \u001b[0;32mIn[6], line 2\u001b[0m\n\u001b[1;32m      1\u001b[0m \u001b[38;5;66;03m# smae with indexes\u001b[39;00m\n\u001b[0;32m----> 2\u001b[0m \u001b[43mro_itmes\u001b[49m\u001b[38;5;241m.\u001b[39mindex(\u001b[38;5;124m'\u001b[39m\u001b[38;5;124mfifth\u001b[39m\u001b[38;5;124m'\u001b[39m)\n",
      "\u001b[0;31mNameError\u001b[0m: name 'ro_itmes' is not defined"
     ]
    }
   ],
   "source": [
    "# smae with indexes\n",
    "ro_itmes.index('fifth')"
   ]
  },
  {
   "cell_type": "code",
   "execution_count": 8,
   "id": "d3443ba0-07ad-4f6d-b525-1d9bdba26a17",
   "metadata": {},
   "outputs": [
    {
     "name": "stdout",
     "output_type": "stream",
     "text": [
      "count\n",
      "index\n"
     ]
    }
   ],
   "source": [
    "# find out what methods are available in a tuple\n",
    "for method in dir(tuple()):\n",
    "    if method.startswith('__'):\n",
    "        continue\n",
    "    print(method)"
   ]
  },
  {
   "cell_type": "code",
   "execution_count": 10,
   "id": "de2dfd4c-927e-4e78-aaf0-fa8a1b24366f",
   "metadata": {},
   "outputs": [
    {
     "ename": "AttributeError",
     "evalue": "'tuple' object has no attribute 'append'",
     "output_type": "error",
     "traceback": [
      "\u001b[0;31m---------------------------------------------------------------------------\u001b[0m",
      "\u001b[0;31mAttributeError\u001b[0m                            Traceback (most recent call last)",
      "Cell \u001b[0;32mIn[10], line 2\u001b[0m\n\u001b[1;32m      1\u001b[0m \u001b[38;5;66;03m# tuples are inmutable\u001b[39;00m\n\u001b[0;32m----> 2\u001b[0m \u001b[43mro_items\u001b[49m\u001b[38;5;241;43m.\u001b[39;49m\u001b[43mappend\u001b[49m(\u001b[38;5;124m'\u001b[39m\u001b[38;5;124ma\u001b[39m\u001b[38;5;124m'\u001b[39m)\n",
      "\u001b[0;31mAttributeError\u001b[0m: 'tuple' object has no attribute 'append'"
     ]
    }
   ],
   "source": [
    "# tuples are inmutable\n",
    "ro_items.append('a')"
   ]
  },
  {
   "cell_type": "markdown",
   "id": "c6475a5d-1b3f-4bef-9a51-b1361c4171fc",
   "metadata": {},
   "source": [
    "# Sets\n",
    "\n",
    "Sets are like lists, they look like dictionaries, buty they allow us to keep unique items"
   ]
  },
  {
   "cell_type": "code",
   "execution_count": 13,
   "id": "8da1ca8e-be14-43d7-922c-a6d73d6705cf",
   "metadata": {},
   "outputs": [
    {
     "data": {
      "text/plain": [
       "{'one'}"
      ]
     },
     "execution_count": 13,
     "metadata": {},
     "output_type": "execute_result"
    }
   ],
   "source": [
    "# creating an empty set\n",
    "unique = set()\n",
    "# ass items with .add()\n",
    "unique.add(\"one\")\n",
    "unique"
   ]
  },
  {
   "cell_type": "code",
   "execution_count": 16,
   "id": "c322e16b-08cc-4895-858d-16f0f9e80c36",
   "metadata": {},
   "outputs": [
    {
     "name": "stdout",
     "output_type": "stream",
     "text": [
      "{'one', 'two'}\n"
     ]
    }
   ],
   "source": [
    "# adding more items works as long as they are unqiue\n",
    "unique.add(\"one\")\n",
    "unique.add(\"one\")\n",
    "unique.add(\"one\")\n",
    "unique.add(\"two\")\n",
    "print(unique)"
   ]
  },
  {
   "cell_type": "code",
   "execution_count": 19,
   "id": "fed61540-1ccd-4e4a-88c5-2a38219723e1",
   "metadata": {},
   "outputs": [
    {
     "ename": "KeyError",
     "evalue": "'pop from an empty set'",
     "output_type": "error",
     "traceback": [
      "\u001b[0;31m---------------------------------------------------------------------------\u001b[0m",
      "\u001b[0;31mKeyError\u001b[0m                                  Traceback (most recent call last)",
      "Cell \u001b[0;32mIn[19], line 2\u001b[0m\n\u001b[1;32m      1\u001b[0m \u001b[38;5;66;03m# you can pop items too, like lists, but it takes no arguments\u001b[39;00m\n\u001b[0;32m----> 2\u001b[0m \u001b[43munique\u001b[49m\u001b[38;5;241;43m.\u001b[39;49m\u001b[43mpop\u001b[49m\u001b[43m(\u001b[49m\u001b[43m)\u001b[49m\n\u001b[1;32m      3\u001b[0m unique\n",
      "\u001b[0;31mKeyError\u001b[0m: 'pop from an empty set'"
     ]
    }
   ],
   "source": [
    "# you can pop items too, like lists, but it takes no arguments\n",
    "unique.pop()\n",
    "unique"
   ]
  }
 ],
 "metadata": {
  "kernelspec": {
   "display_name": "Python 3 (ipykernel)",
   "language": "python",
   "name": "python3"
  },
  "language_info": {
   "codemirror_mode": {
    "name": "ipython",
    "version": 3
   },
   "file_extension": ".py",
   "mimetype": "text/x-python",
   "name": "python",
   "nbconvert_exporter": "python",
   "pygments_lexer": "ipython3",
   "version": "3.10.12"
  }
 },
 "nbformat": 4,
 "nbformat_minor": 5
}
